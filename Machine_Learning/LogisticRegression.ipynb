{
 "metadata": {
  "language_info": {
   "codemirror_mode": {
    "name": "ipython",
    "version": 3
   },
   "file_extension": ".py",
   "mimetype": "text/x-python",
   "name": "python",
   "nbconvert_exporter": "python",
   "pygments_lexer": "ipython3",
   "version": "3.8.7-final"
  },
  "orig_nbformat": 2,
  "kernelspec": {
   "name": "python3",
   "display_name": "Python 3.8.7 64-bit",
   "metadata": {
    "interpreter": {
     "hash": "dcbe076a40d8142e585077643c26fc4a9c0eed423ce3f041c8a5b2e5c8137bb1"
    }
   }
  }
 },
 "nbformat": 4,
 "nbformat_minor": 2,
 "cells": [
  {
   "source": [
    "# Logistic Regression\n",
    "## Stroke Prediction Dataset"
   ],
   "cell_type": "markdown",
   "metadata": {}
  },
  {
   "source": [
    "### Imports"
   ],
   "cell_type": "markdown",
   "metadata": {}
  },
  {
   "cell_type": "code",
   "execution_count": 1,
   "metadata": {},
   "outputs": [],
   "source": [
    "import numpy as np\n",
    "import pandas as pd\n",
    "from sklearn.impute import KNNImputer\n",
    "from sklearn.preprocessing import OneHotEncoder, MinMaxScaler\n",
    "from sklearn.compose import ColumnTransformer\n",
    "from sklearn.pipeline import Pipeline\n",
    "from sklearn.linear_model import LogisticRegression\n",
    "from sklearn.model_selection import StratifiedKFold, GridSearchCV"
   ]
  },
  {
   "source": [
    "### Loading the raw dataset"
   ],
   "cell_type": "markdown",
   "metadata": {}
  },
  {
   "cell_type": "code",
   "execution_count": 2,
   "metadata": {},
   "outputs": [
    {
     "output_type": "execute_result",
     "data": {
      "text/plain": [
       "      id  gender   age  hypertension  heart_disease ever_married  \\\n",
       "0   9046    Male  67.0             0              1          Yes   \n",
       "1  51676  Female  61.0             0              0          Yes   \n",
       "2  31112    Male  80.0             0              1          Yes   \n",
       "3  60182  Female  49.0             0              0          Yes   \n",
       "4   1665  Female  79.0             1              0          Yes   \n",
       "\n",
       "       work_type Residence_type  avg_glucose_level   bmi   smoking_status  \\\n",
       "0        Private          Urban             228.69  36.6  formerly smoked   \n",
       "1  Self-employed          Rural             202.21   NaN     never smoked   \n",
       "2        Private          Rural             105.92  32.5     never smoked   \n",
       "3        Private          Urban             171.23  34.4           smokes   \n",
       "4  Self-employed          Rural             174.12  24.0     never smoked   \n",
       "\n",
       "   stroke  \n",
       "0       1  \n",
       "1       1  \n",
       "2       1  \n",
       "3       1  \n",
       "4       1  "
      ],
      "text/html": "<div>\n<style scoped>\n    .dataframe tbody tr th:only-of-type {\n        vertical-align: middle;\n    }\n\n    .dataframe tbody tr th {\n        vertical-align: top;\n    }\n\n    .dataframe thead th {\n        text-align: right;\n    }\n</style>\n<table border=\"1\" class=\"dataframe\">\n  <thead>\n    <tr style=\"text-align: right;\">\n      <th></th>\n      <th>id</th>\n      <th>gender</th>\n      <th>age</th>\n      <th>hypertension</th>\n      <th>heart_disease</th>\n      <th>ever_married</th>\n      <th>work_type</th>\n      <th>Residence_type</th>\n      <th>avg_glucose_level</th>\n      <th>bmi</th>\n      <th>smoking_status</th>\n      <th>stroke</th>\n    </tr>\n  </thead>\n  <tbody>\n    <tr>\n      <th>0</th>\n      <td>9046</td>\n      <td>Male</td>\n      <td>67.0</td>\n      <td>0</td>\n      <td>1</td>\n      <td>Yes</td>\n      <td>Private</td>\n      <td>Urban</td>\n      <td>228.69</td>\n      <td>36.6</td>\n      <td>formerly smoked</td>\n      <td>1</td>\n    </tr>\n    <tr>\n      <th>1</th>\n      <td>51676</td>\n      <td>Female</td>\n      <td>61.0</td>\n      <td>0</td>\n      <td>0</td>\n      <td>Yes</td>\n      <td>Self-employed</td>\n      <td>Rural</td>\n      <td>202.21</td>\n      <td>NaN</td>\n      <td>never smoked</td>\n      <td>1</td>\n    </tr>\n    <tr>\n      <th>2</th>\n      <td>31112</td>\n      <td>Male</td>\n      <td>80.0</td>\n      <td>0</td>\n      <td>1</td>\n      <td>Yes</td>\n      <td>Private</td>\n      <td>Rural</td>\n      <td>105.92</td>\n      <td>32.5</td>\n      <td>never smoked</td>\n      <td>1</td>\n    </tr>\n    <tr>\n      <th>3</th>\n      <td>60182</td>\n      <td>Female</td>\n      <td>49.0</td>\n      <td>0</td>\n      <td>0</td>\n      <td>Yes</td>\n      <td>Private</td>\n      <td>Urban</td>\n      <td>171.23</td>\n      <td>34.4</td>\n      <td>smokes</td>\n      <td>1</td>\n    </tr>\n    <tr>\n      <th>4</th>\n      <td>1665</td>\n      <td>Female</td>\n      <td>79.0</td>\n      <td>1</td>\n      <td>0</td>\n      <td>Yes</td>\n      <td>Self-employed</td>\n      <td>Rural</td>\n      <td>174.12</td>\n      <td>24.0</td>\n      <td>never smoked</td>\n      <td>1</td>\n    </tr>\n  </tbody>\n</table>\n</div>"
     },
     "metadata": {},
     "execution_count": 2
    }
   ],
   "source": [
    "raw_df = pd.read_csv(r'..\\Datasets\\healthcare-dataset-stroke-data.csv')\n",
    "raw_df.head()"
   ]
  },
  {
   "source": [
    "### Data Preparation"
   ],
   "cell_type": "markdown",
   "metadata": {}
  },
  {
   "source": [
    "#### Dropping the ID column"
   ],
   "cell_type": "markdown",
   "metadata": {}
  },
  {
   "cell_type": "code",
   "execution_count": 3,
   "metadata": {},
   "outputs": [
    {
     "output_type": "execute_result",
     "data": {
      "text/plain": [
       "   gender   age  hypertension  heart_disease ever_married      work_type  \\\n",
       "0    Male  67.0             0              1          Yes        Private   \n",
       "1  Female  61.0             0              0          Yes  Self-employed   \n",
       "2    Male  80.0             0              1          Yes        Private   \n",
       "3  Female  49.0             0              0          Yes        Private   \n",
       "4  Female  79.0             1              0          Yes  Self-employed   \n",
       "\n",
       "  Residence_type  avg_glucose_level   bmi   smoking_status  stroke  \n",
       "0          Urban             228.69  36.6  formerly smoked       1  \n",
       "1          Rural             202.21   NaN     never smoked       1  \n",
       "2          Rural             105.92  32.5     never smoked       1  \n",
       "3          Urban             171.23  34.4           smokes       1  \n",
       "4          Rural             174.12  24.0     never smoked       1  "
      ],
      "text/html": "<div>\n<style scoped>\n    .dataframe tbody tr th:only-of-type {\n        vertical-align: middle;\n    }\n\n    .dataframe tbody tr th {\n        vertical-align: top;\n    }\n\n    .dataframe thead th {\n        text-align: right;\n    }\n</style>\n<table border=\"1\" class=\"dataframe\">\n  <thead>\n    <tr style=\"text-align: right;\">\n      <th></th>\n      <th>gender</th>\n      <th>age</th>\n      <th>hypertension</th>\n      <th>heart_disease</th>\n      <th>ever_married</th>\n      <th>work_type</th>\n      <th>Residence_type</th>\n      <th>avg_glucose_level</th>\n      <th>bmi</th>\n      <th>smoking_status</th>\n      <th>stroke</th>\n    </tr>\n  </thead>\n  <tbody>\n    <tr>\n      <th>0</th>\n      <td>Male</td>\n      <td>67.0</td>\n      <td>0</td>\n      <td>1</td>\n      <td>Yes</td>\n      <td>Private</td>\n      <td>Urban</td>\n      <td>228.69</td>\n      <td>36.6</td>\n      <td>formerly smoked</td>\n      <td>1</td>\n    </tr>\n    <tr>\n      <th>1</th>\n      <td>Female</td>\n      <td>61.0</td>\n      <td>0</td>\n      <td>0</td>\n      <td>Yes</td>\n      <td>Self-employed</td>\n      <td>Rural</td>\n      <td>202.21</td>\n      <td>NaN</td>\n      <td>never smoked</td>\n      <td>1</td>\n    </tr>\n    <tr>\n      <th>2</th>\n      <td>Male</td>\n      <td>80.0</td>\n      <td>0</td>\n      <td>1</td>\n      <td>Yes</td>\n      <td>Private</td>\n      <td>Rural</td>\n      <td>105.92</td>\n      <td>32.5</td>\n      <td>never smoked</td>\n      <td>1</td>\n    </tr>\n    <tr>\n      <th>3</th>\n      <td>Female</td>\n      <td>49.0</td>\n      <td>0</td>\n      <td>0</td>\n      <td>Yes</td>\n      <td>Private</td>\n      <td>Urban</td>\n      <td>171.23</td>\n      <td>34.4</td>\n      <td>smokes</td>\n      <td>1</td>\n    </tr>\n    <tr>\n      <th>4</th>\n      <td>Female</td>\n      <td>79.0</td>\n      <td>1</td>\n      <td>0</td>\n      <td>Yes</td>\n      <td>Self-employed</td>\n      <td>Rural</td>\n      <td>174.12</td>\n      <td>24.0</td>\n      <td>never smoked</td>\n      <td>1</td>\n    </tr>\n  </tbody>\n</table>\n</div>"
     },
     "metadata": {},
     "execution_count": 3
    }
   ],
   "source": [
    "raw_df.drop(['id'], axis = 1, inplace = True)\n",
    "raw_df.head()"
   ]
  },
  {
   "source": [
    "#### Data features"
   ],
   "cell_type": "markdown",
   "metadata": {}
  },
  {
   "cell_type": "code",
   "execution_count": 4,
   "metadata": {},
   "outputs": [
    {
     "output_type": "execute_result",
     "data": {
      "text/plain": [
       "   gender   age  hypertension  heart_disease ever_married      work_type  \\\n",
       "0    Male  67.0             0              1          Yes        Private   \n",
       "1  Female  61.0             0              0          Yes  Self-employed   \n",
       "2    Male  80.0             0              1          Yes        Private   \n",
       "3  Female  49.0             0              0          Yes        Private   \n",
       "4  Female  79.0             1              0          Yes  Self-employed   \n",
       "\n",
       "  Residence_type  avg_glucose_level   bmi   smoking_status  \n",
       "0          Urban             228.69  36.6  formerly smoked  \n",
       "1          Rural             202.21   NaN     never smoked  \n",
       "2          Rural             105.92  32.5     never smoked  \n",
       "3          Urban             171.23  34.4           smokes  \n",
       "4          Rural             174.12  24.0     never smoked  "
      ],
      "text/html": "<div>\n<style scoped>\n    .dataframe tbody tr th:only-of-type {\n        vertical-align: middle;\n    }\n\n    .dataframe tbody tr th {\n        vertical-align: top;\n    }\n\n    .dataframe thead th {\n        text-align: right;\n    }\n</style>\n<table border=\"1\" class=\"dataframe\">\n  <thead>\n    <tr style=\"text-align: right;\">\n      <th></th>\n      <th>gender</th>\n      <th>age</th>\n      <th>hypertension</th>\n      <th>heart_disease</th>\n      <th>ever_married</th>\n      <th>work_type</th>\n      <th>Residence_type</th>\n      <th>avg_glucose_level</th>\n      <th>bmi</th>\n      <th>smoking_status</th>\n    </tr>\n  </thead>\n  <tbody>\n    <tr>\n      <th>0</th>\n      <td>Male</td>\n      <td>67.0</td>\n      <td>0</td>\n      <td>1</td>\n      <td>Yes</td>\n      <td>Private</td>\n      <td>Urban</td>\n      <td>228.69</td>\n      <td>36.6</td>\n      <td>formerly smoked</td>\n    </tr>\n    <tr>\n      <th>1</th>\n      <td>Female</td>\n      <td>61.0</td>\n      <td>0</td>\n      <td>0</td>\n      <td>Yes</td>\n      <td>Self-employed</td>\n      <td>Rural</td>\n      <td>202.21</td>\n      <td>NaN</td>\n      <td>never smoked</td>\n    </tr>\n    <tr>\n      <th>2</th>\n      <td>Male</td>\n      <td>80.0</td>\n      <td>0</td>\n      <td>1</td>\n      <td>Yes</td>\n      <td>Private</td>\n      <td>Rural</td>\n      <td>105.92</td>\n      <td>32.5</td>\n      <td>never smoked</td>\n    </tr>\n    <tr>\n      <th>3</th>\n      <td>Female</td>\n      <td>49.0</td>\n      <td>0</td>\n      <td>0</td>\n      <td>Yes</td>\n      <td>Private</td>\n      <td>Urban</td>\n      <td>171.23</td>\n      <td>34.4</td>\n      <td>smokes</td>\n    </tr>\n    <tr>\n      <th>4</th>\n      <td>Female</td>\n      <td>79.0</td>\n      <td>1</td>\n      <td>0</td>\n      <td>Yes</td>\n      <td>Self-employed</td>\n      <td>Rural</td>\n      <td>174.12</td>\n      <td>24.0</td>\n      <td>never smoked</td>\n    </tr>\n  </tbody>\n</table>\n</div>"
     },
     "metadata": {},
     "execution_count": 4
    }
   ],
   "source": [
    "X = raw_df.drop(['stroke'], axis = 1)\n",
    "X.head()"
   ]
  },
  {
   "source": [
    "#### Data labels"
   ],
   "cell_type": "markdown",
   "metadata": {}
  },
  {
   "cell_type": "code",
   "execution_count": 5,
   "metadata": {},
   "outputs": [
    {
     "output_type": "execute_result",
     "data": {
      "text/plain": [
       "0    1\n",
       "1    1\n",
       "2    1\n",
       "3    1\n",
       "4    1\n",
       "Name: stroke, dtype: int64"
      ]
     },
     "metadata": {},
     "execution_count": 5
    }
   ],
   "source": [
    "y = raw_df['stroke']\n",
    "y.head()"
   ]
  },
  {
   "source": [
    "### Creating Model pipeline"
   ],
   "cell_type": "markdown",
   "metadata": {}
  },
  {
   "source": [
    "#### One Hot Encoding for categorical columns"
   ],
   "cell_type": "markdown",
   "metadata": {}
  },
  {
   "cell_type": "code",
   "execution_count": 6,
   "metadata": {},
   "outputs": [
    {
     "output_type": "execute_result",
     "data": {
      "text/plain": [
       "[['Male', 'Female', 'Other'],\n",
       " ['Yes', 'No'],\n",
       " ['Private', 'Self-employed', 'Govt_job', 'children', 'Never_worked'],\n",
       " ['Urban', 'Rural'],\n",
       " ['formerly smoked', 'never smoked', 'smokes', 'Unknown']]"
      ]
     },
     "metadata": {},
     "execution_count": 6
    }
   ],
   "source": [
    "CATEGORICAL_COLS = ['gender', 'ever_married', 'work_type', 'Residence_type', 'smoking_status']\n",
    "ohe_categories = [list(raw_df[col_name].unique()) for col_name in CATEGORICAL_COLS]\n",
    "ohe_categories"
   ]
  },
  {
   "cell_type": "code",
   "execution_count": 7,
   "metadata": {},
   "outputs": [],
   "source": [
    "ohe_transformer = ColumnTransformer([('ohe', OneHotEncoder(categories = ohe_categories, drop = 'first'), CATEGORICAL_COLS)], \n",
    "    sparse_threshold = 0, remainder='passthrough')"
   ]
  },
  {
   "source": [
    "#### Encoding and Imputing Pipeline"
   ],
   "cell_type": "markdown",
   "metadata": {}
  },
  {
   "cell_type": "code",
   "execution_count": 8,
   "metadata": {},
   "outputs": [],
   "source": [
    "ohe_imputer = Pipeline([\n",
    "    ('ohe_tranformer', ohe_transformer),\n",
    "    ('knn_imputer', KNNImputer())\n",
    "])"
   ]
  },
  {
   "source": [
    "#### Min max scalar for numerical columns"
   ],
   "cell_type": "markdown",
   "metadata": {}
  },
  {
   "cell_type": "code",
   "execution_count": 10,
   "metadata": {},
   "outputs": [],
   "source": [
    "minmax_scaler = ColumnTransformer([('minmax', MinMaxScaler(), [11, 14, 15])], \n",
    "    sparse_threshold = 0, remainder='passthrough')"
   ]
  },
  {
   "source": [
    "#### Logistic Regression pipeline"
   ],
   "cell_type": "markdown",
   "metadata": {}
  },
  {
   "cell_type": "code",
   "execution_count": 11,
   "metadata": {},
   "outputs": [],
   "source": [
    "clf_pipeline = Pipeline([\n",
    "    ('ohe_imputer', ohe_imputer),\n",
    "    ('minmax_scaler', minmax_scaler),\n",
    "    ('logreg', LogisticRegression(class_weight = 'balanced'))\n",
    "])"
   ]
  },
  {
   "source": [
    "### Model Fitting"
   ],
   "cell_type": "markdown",
   "metadata": {}
  },
  {
   "source": [
    "#### Grid Search CV using Stratified K-fold"
   ],
   "cell_type": "markdown",
   "metadata": {}
  },
  {
   "cell_type": "code",
   "execution_count": 12,
   "metadata": {},
   "outputs": [],
   "source": [
    "skf = StratifiedKFold(n_splits = 5)\n",
    "\n",
    "params = [{\n",
    "    'ohe_imputer__knn_imputer__n_neighbors': [3, 5, 7],\n",
    "    'ohe_imputer__knn_imputer__weights': ['uniform', 'distance'],\n",
    "    'minmax_scaler__minmax__clip': [True, False],\n",
    "    'logreg__penalty': ['l2', 'none'],\n",
    "    'logreg__tol': np.logspace(-5, -3, 3),\n",
    "    'logreg__C': np.logspace(-5, -1, 5),\n",
    "    'logreg__max_iter': [50, 100, 150],\n",
    "    'logreg__solver': ['newton-cg', 'lbfgs', 'sag']\n",
    "},\n",
    "{\n",
    "    'ohe_imputer__knn_imputer__n_neighbors': [3, 5, 7],\n",
    "    'ohe_imputer__knn_imputer__weights': ['uniform', 'distance'],\n",
    "    'minmax_scaler__minmax__clip': [True, False],\n",
    "    'logreg__penalty': ['l1', 'l2'],\n",
    "    'logreg__tol': np.logspace(-5, -3, 3),\n",
    "    'logreg__C': np.logspace(-5, -1, 5),\n",
    "    'logreg__max_iter': [50, 100, 150],\n",
    "    'logreg__solver': ['liblinear', 'saga']\n",
    "}]"
   ]
  },
  {
   "cell_type": "code",
   "execution_count": 13,
   "metadata": {},
   "outputs": [],
   "source": [
    "gs = GridSearchCV(clf_pipeline, params, cv = skf, n_jobs = -1)"
   ]
  },
  {
   "source": [
    "#### All possible params for Grid Search CV"
   ],
   "cell_type": "markdown",
   "metadata": {}
  },
  {
   "cell_type": "code",
   "execution_count": 14,
   "metadata": {},
   "outputs": [
    {
     "output_type": "execute_result",
     "data": {
      "text/plain": [
       "['cv',\n",
       " 'error_score',\n",
       " 'estimator',\n",
       " 'estimator__logreg',\n",
       " 'estimator__logreg__C',\n",
       " 'estimator__logreg__class_weight',\n",
       " 'estimator__logreg__dual',\n",
       " 'estimator__logreg__fit_intercept',\n",
       " 'estimator__logreg__intercept_scaling',\n",
       " 'estimator__logreg__l1_ratio',\n",
       " 'estimator__logreg__max_iter',\n",
       " 'estimator__logreg__multi_class',\n",
       " 'estimator__logreg__n_jobs',\n",
       " 'estimator__logreg__penalty',\n",
       " 'estimator__logreg__random_state',\n",
       " 'estimator__logreg__solver',\n",
       " 'estimator__logreg__tol',\n",
       " 'estimator__logreg__verbose',\n",
       " 'estimator__logreg__warm_start',\n",
       " 'estimator__memory',\n",
       " 'estimator__minmax_scaler',\n",
       " 'estimator__minmax_scaler__minmax',\n",
       " 'estimator__minmax_scaler__minmax__clip',\n",
       " 'estimator__minmax_scaler__minmax__copy',\n",
       " 'estimator__minmax_scaler__minmax__feature_range',\n",
       " 'estimator__minmax_scaler__n_jobs',\n",
       " 'estimator__minmax_scaler__remainder',\n",
       " 'estimator__minmax_scaler__sparse_threshold',\n",
       " 'estimator__minmax_scaler__transformer_weights',\n",
       " 'estimator__minmax_scaler__transformers',\n",
       " 'estimator__minmax_scaler__verbose',\n",
       " 'estimator__ohe_imputer',\n",
       " 'estimator__ohe_imputer__knn_imputer',\n",
       " 'estimator__ohe_imputer__knn_imputer__add_indicator',\n",
       " 'estimator__ohe_imputer__knn_imputer__copy',\n",
       " 'estimator__ohe_imputer__knn_imputer__metric',\n",
       " 'estimator__ohe_imputer__knn_imputer__missing_values',\n",
       " 'estimator__ohe_imputer__knn_imputer__n_neighbors',\n",
       " 'estimator__ohe_imputer__knn_imputer__weights',\n",
       " 'estimator__ohe_imputer__memory',\n",
       " 'estimator__ohe_imputer__ohe_tranformer',\n",
       " 'estimator__ohe_imputer__ohe_tranformer__n_jobs',\n",
       " 'estimator__ohe_imputer__ohe_tranformer__ohe',\n",
       " 'estimator__ohe_imputer__ohe_tranformer__ohe__categories',\n",
       " 'estimator__ohe_imputer__ohe_tranformer__ohe__drop',\n",
       " 'estimator__ohe_imputer__ohe_tranformer__ohe__dtype',\n",
       " 'estimator__ohe_imputer__ohe_tranformer__ohe__handle_unknown',\n",
       " 'estimator__ohe_imputer__ohe_tranformer__ohe__sparse',\n",
       " 'estimator__ohe_imputer__ohe_tranformer__remainder',\n",
       " 'estimator__ohe_imputer__ohe_tranformer__sparse_threshold',\n",
       " 'estimator__ohe_imputer__ohe_tranformer__transformer_weights',\n",
       " 'estimator__ohe_imputer__ohe_tranformer__transformers',\n",
       " 'estimator__ohe_imputer__ohe_tranformer__verbose',\n",
       " 'estimator__ohe_imputer__steps',\n",
       " 'estimator__ohe_imputer__verbose',\n",
       " 'estimator__steps',\n",
       " 'estimator__verbose',\n",
       " 'n_jobs',\n",
       " 'param_grid',\n",
       " 'pre_dispatch',\n",
       " 'refit',\n",
       " 'return_train_score',\n",
       " 'scoring',\n",
       " 'verbose']"
      ]
     },
     "metadata": {},
     "execution_count": 14
    }
   ],
   "source": [
    "sorted(gs.get_params().keys())"
   ]
  },
  {
   "source": [
    "#### Results"
   ],
   "cell_type": "markdown",
   "metadata": {}
  },
  {
   "cell_type": "code",
   "execution_count": 15,
   "metadata": {},
   "outputs": [
    {
     "output_type": "stream",
     "name": "stdout",
     "text": [
      "Wall time: 12min 27s\n"
     ]
    },
    {
     "output_type": "execute_result",
     "data": {
      "text/plain": [
       "      mean_fit_time  std_fit_time  mean_score_time  std_score_time  \\\n",
       "4396       0.194879      0.030451         0.051863        0.011750   \n",
       "3992       0.174532      0.018041         0.051463        0.017037   \n",
       "4279       0.202657      0.026470         0.062632        0.014918   \n",
       "4280       0.177526      0.011717         0.052460        0.014529   \n",
       "4281       0.206847      0.042956         0.062831        0.004593   \n",
       "\n",
       "     param_logreg__C param_logreg__max_iter param_logreg__penalty  \\\n",
       "4396           0.001                    150                    l1   \n",
       "3992          0.0001                    150                    l1   \n",
       "4279           0.001                    100                    l1   \n",
       "4280           0.001                    100                    l1   \n",
       "4281           0.001                    100                    l1   \n",
       "\n",
       "     param_logreg__solver param_logreg__tol param_minmax_scaler__minmax__clip  \\\n",
       "4396            liblinear           0.00001                              True   \n",
       "3992            liblinear             0.001                             False   \n",
       "4279            liblinear             0.001                             False   \n",
       "4280            liblinear             0.001                             False   \n",
       "4281            liblinear             0.001                             False   \n",
       "\n",
       "      ... param_ohe_imputer__knn_imputer__weights  \\\n",
       "4396  ...                                 uniform   \n",
       "3992  ...                                 uniform   \n",
       "4279  ...                                distance   \n",
       "4280  ...                                 uniform   \n",
       "4281  ...                                distance   \n",
       "\n",
       "                                                 params split0_test_score  \\\n",
       "4396  {'logreg__C': 0.001, 'logreg__max_iter': 150, ...          0.951076   \n",
       "3992  {'logreg__C': 0.0001, 'logreg__max_iter': 150,...          0.951076   \n",
       "4279  {'logreg__C': 0.001, 'logreg__max_iter': 100, ...          0.951076   \n",
       "4280  {'logreg__C': 0.001, 'logreg__max_iter': 100, ...          0.951076   \n",
       "4281  {'logreg__C': 0.001, 'logreg__max_iter': 100, ...          0.951076   \n",
       "\n",
       "      split1_test_score  split2_test_score  split3_test_score  \\\n",
       "4396           0.951076           0.951076           0.951076   \n",
       "3992           0.951076           0.951076           0.951076   \n",
       "4279           0.951076           0.951076           0.951076   \n",
       "4280           0.951076           0.951076           0.951076   \n",
       "4281           0.951076           0.951076           0.951076   \n",
       "\n",
       "      split4_test_score  mean_test_score  std_test_score  rank_test_score  \n",
       "4396           0.952055         0.951272        0.000391                1  \n",
       "3992           0.952055         0.951272        0.000391                1  \n",
       "4279           0.952055         0.951272        0.000391                1  \n",
       "4280           0.952055         0.951272        0.000391                1  \n",
       "4281           0.952055         0.951272        0.000391                1  \n",
       "\n",
       "[5 rows x 21 columns]"
      ],
      "text/html": "<div>\n<style scoped>\n    .dataframe tbody tr th:only-of-type {\n        vertical-align: middle;\n    }\n\n    .dataframe tbody tr th {\n        vertical-align: top;\n    }\n\n    .dataframe thead th {\n        text-align: right;\n    }\n</style>\n<table border=\"1\" class=\"dataframe\">\n  <thead>\n    <tr style=\"text-align: right;\">\n      <th></th>\n      <th>mean_fit_time</th>\n      <th>std_fit_time</th>\n      <th>mean_score_time</th>\n      <th>std_score_time</th>\n      <th>param_logreg__C</th>\n      <th>param_logreg__max_iter</th>\n      <th>param_logreg__penalty</th>\n      <th>param_logreg__solver</th>\n      <th>param_logreg__tol</th>\n      <th>param_minmax_scaler__minmax__clip</th>\n      <th>...</th>\n      <th>param_ohe_imputer__knn_imputer__weights</th>\n      <th>params</th>\n      <th>split0_test_score</th>\n      <th>split1_test_score</th>\n      <th>split2_test_score</th>\n      <th>split3_test_score</th>\n      <th>split4_test_score</th>\n      <th>mean_test_score</th>\n      <th>std_test_score</th>\n      <th>rank_test_score</th>\n    </tr>\n  </thead>\n  <tbody>\n    <tr>\n      <th>4396</th>\n      <td>0.194879</td>\n      <td>0.030451</td>\n      <td>0.051863</td>\n      <td>0.011750</td>\n      <td>0.001</td>\n      <td>150</td>\n      <td>l1</td>\n      <td>liblinear</td>\n      <td>0.00001</td>\n      <td>True</td>\n      <td>...</td>\n      <td>uniform</td>\n      <td>{'logreg__C': 0.001, 'logreg__max_iter': 150, ...</td>\n      <td>0.951076</td>\n      <td>0.951076</td>\n      <td>0.951076</td>\n      <td>0.951076</td>\n      <td>0.952055</td>\n      <td>0.951272</td>\n      <td>0.000391</td>\n      <td>1</td>\n    </tr>\n    <tr>\n      <th>3992</th>\n      <td>0.174532</td>\n      <td>0.018041</td>\n      <td>0.051463</td>\n      <td>0.017037</td>\n      <td>0.0001</td>\n      <td>150</td>\n      <td>l1</td>\n      <td>liblinear</td>\n      <td>0.001</td>\n      <td>False</td>\n      <td>...</td>\n      <td>uniform</td>\n      <td>{'logreg__C': 0.0001, 'logreg__max_iter': 150,...</td>\n      <td>0.951076</td>\n      <td>0.951076</td>\n      <td>0.951076</td>\n      <td>0.951076</td>\n      <td>0.952055</td>\n      <td>0.951272</td>\n      <td>0.000391</td>\n      <td>1</td>\n    </tr>\n    <tr>\n      <th>4279</th>\n      <td>0.202657</td>\n      <td>0.026470</td>\n      <td>0.062632</td>\n      <td>0.014918</td>\n      <td>0.001</td>\n      <td>100</td>\n      <td>l1</td>\n      <td>liblinear</td>\n      <td>0.001</td>\n      <td>False</td>\n      <td>...</td>\n      <td>distance</td>\n      <td>{'logreg__C': 0.001, 'logreg__max_iter': 100, ...</td>\n      <td>0.951076</td>\n      <td>0.951076</td>\n      <td>0.951076</td>\n      <td>0.951076</td>\n      <td>0.952055</td>\n      <td>0.951272</td>\n      <td>0.000391</td>\n      <td>1</td>\n    </tr>\n    <tr>\n      <th>4280</th>\n      <td>0.177526</td>\n      <td>0.011717</td>\n      <td>0.052460</td>\n      <td>0.014529</td>\n      <td>0.001</td>\n      <td>100</td>\n      <td>l1</td>\n      <td>liblinear</td>\n      <td>0.001</td>\n      <td>False</td>\n      <td>...</td>\n      <td>uniform</td>\n      <td>{'logreg__C': 0.001, 'logreg__max_iter': 100, ...</td>\n      <td>0.951076</td>\n      <td>0.951076</td>\n      <td>0.951076</td>\n      <td>0.951076</td>\n      <td>0.952055</td>\n      <td>0.951272</td>\n      <td>0.000391</td>\n      <td>1</td>\n    </tr>\n    <tr>\n      <th>4281</th>\n      <td>0.206847</td>\n      <td>0.042956</td>\n      <td>0.062831</td>\n      <td>0.004593</td>\n      <td>0.001</td>\n      <td>100</td>\n      <td>l1</td>\n      <td>liblinear</td>\n      <td>0.001</td>\n      <td>False</td>\n      <td>...</td>\n      <td>distance</td>\n      <td>{'logreg__C': 0.001, 'logreg__max_iter': 100, ...</td>\n      <td>0.951076</td>\n      <td>0.951076</td>\n      <td>0.951076</td>\n      <td>0.951076</td>\n      <td>0.952055</td>\n      <td>0.951272</td>\n      <td>0.000391</td>\n      <td>1</td>\n    </tr>\n  </tbody>\n</table>\n<p>5 rows × 21 columns</p>\n</div>"
     },
     "metadata": {},
     "execution_count": 15
    }
   ],
   "source": [
    "%%time\n",
    "\n",
    "gs.fit(X, y)\n",
    "\n",
    "cv_results = pd.DataFrame(gs.cv_results_).sort_values('mean_test_score', ascending = False)\n",
    "cv_results.head()"
   ]
  },
  {
   "source": [
    "#### Best Parameters for the model"
   ],
   "cell_type": "markdown",
   "metadata": {}
  },
  {
   "cell_type": "code",
   "execution_count": 16,
   "metadata": {},
   "outputs": [
    {
     "output_type": "execute_result",
     "data": {
      "text/plain": [
       "{'logreg__C': 1e-05,\n",
       " 'logreg__max_iter': 50,\n",
       " 'logreg__penalty': 'l1',\n",
       " 'logreg__solver': 'liblinear',\n",
       " 'logreg__tol': 1e-05,\n",
       " 'minmax_scaler__minmax__clip': True,\n",
       " 'ohe_imputer__knn_imputer__n_neighbors': 3,\n",
       " 'ohe_imputer__knn_imputer__weights': 'uniform'}"
      ]
     },
     "metadata": {},
     "execution_count": 16
    }
   ],
   "source": [
    "gs.best_params_"
   ]
  },
  {
   "source": [
    "#### All parameter combinations with the best score sorted by least time taken to predict"
   ],
   "cell_type": "markdown",
   "metadata": {}
  },
  {
   "cell_type": "code",
   "execution_count": 17,
   "metadata": {},
   "outputs": [
    {
     "output_type": "execute_result",
     "data": {
      "text/plain": [
       "     param_logreg__C param_logreg__max_iter param_logreg__penalty  \\\n",
       "3240         0.00001                     50                    l1   \n",
       "4295           0.001                    100                    l1   \n",
       "3385         0.00001                    100                    l1   \n",
       "4420           0.001                    150                    l1   \n",
       "3532         0.00001                    150                    l1   \n",
       "\n",
       "     param_logreg__solver param_logreg__tol param_minmax_scaler__minmax__clip  \\\n",
       "3240            liblinear           0.00001                              True   \n",
       "4295                 saga           0.00001                             False   \n",
       "3385            liblinear           0.00001                              True   \n",
       "4420            liblinear             0.001                              True   \n",
       "3532            liblinear           0.00001                              True   \n",
       "\n",
       "     param_ohe_imputer__knn_imputer__n_neighbors  \\\n",
       "3240                                           3   \n",
       "4295                                           7   \n",
       "3385                                           3   \n",
       "4420                                           7   \n",
       "3532                                           7   \n",
       "\n",
       "     param_ohe_imputer__knn_imputer__weights  mean_score_time  \n",
       "3240                                 uniform         0.036705  \n",
       "4295                                distance         0.042696  \n",
       "3385                                distance         0.042886  \n",
       "4420                                 uniform         0.044680  \n",
       "3532                                 uniform         0.044880  "
      ],
      "text/html": "<div>\n<style scoped>\n    .dataframe tbody tr th:only-of-type {\n        vertical-align: middle;\n    }\n\n    .dataframe tbody tr th {\n        vertical-align: top;\n    }\n\n    .dataframe thead th {\n        text-align: right;\n    }\n</style>\n<table border=\"1\" class=\"dataframe\">\n  <thead>\n    <tr style=\"text-align: right;\">\n      <th></th>\n      <th>param_logreg__C</th>\n      <th>param_logreg__max_iter</th>\n      <th>param_logreg__penalty</th>\n      <th>param_logreg__solver</th>\n      <th>param_logreg__tol</th>\n      <th>param_minmax_scaler__minmax__clip</th>\n      <th>param_ohe_imputer__knn_imputer__n_neighbors</th>\n      <th>param_ohe_imputer__knn_imputer__weights</th>\n      <th>mean_score_time</th>\n    </tr>\n  </thead>\n  <tbody>\n    <tr>\n      <th>3240</th>\n      <td>0.00001</td>\n      <td>50</td>\n      <td>l1</td>\n      <td>liblinear</td>\n      <td>0.00001</td>\n      <td>True</td>\n      <td>3</td>\n      <td>uniform</td>\n      <td>0.036705</td>\n    </tr>\n    <tr>\n      <th>4295</th>\n      <td>0.001</td>\n      <td>100</td>\n      <td>l1</td>\n      <td>saga</td>\n      <td>0.00001</td>\n      <td>False</td>\n      <td>7</td>\n      <td>distance</td>\n      <td>0.042696</td>\n    </tr>\n    <tr>\n      <th>3385</th>\n      <td>0.00001</td>\n      <td>100</td>\n      <td>l1</td>\n      <td>liblinear</td>\n      <td>0.00001</td>\n      <td>True</td>\n      <td>3</td>\n      <td>distance</td>\n      <td>0.042886</td>\n    </tr>\n    <tr>\n      <th>4420</th>\n      <td>0.001</td>\n      <td>150</td>\n      <td>l1</td>\n      <td>liblinear</td>\n      <td>0.001</td>\n      <td>True</td>\n      <td>7</td>\n      <td>uniform</td>\n      <td>0.044680</td>\n    </tr>\n    <tr>\n      <th>3532</th>\n      <td>0.00001</td>\n      <td>150</td>\n      <td>l1</td>\n      <td>liblinear</td>\n      <td>0.00001</td>\n      <td>True</td>\n      <td>7</td>\n      <td>uniform</td>\n      <td>0.044880</td>\n    </tr>\n  </tbody>\n</table>\n</div>"
     },
     "metadata": {},
     "execution_count": 17
    }
   ],
   "source": [
    "param_cols = [c for c in cv_results.columns if c.startswith('param_')]\n",
    "best_params_df = cv_results[cv_results['mean_test_score'] == gs.best_score_][param_cols + ['mean_score_time']].sort_values('mean_score_time')\n",
    "best_params_df.head()"
   ]
  },
  {
   "cell_type": "code",
   "execution_count": 18,
   "metadata": {},
   "outputs": [
    {
     "output_type": "stream",
     "name": "stdout",
     "text": [
      "param_logreg__C                                    [1e-05 0.001 0.0001]\nparam_logreg__max_iter                             [50 100 150]\nparam_logreg__penalty                              ['l1']\nparam_logreg__solver                               ['liblinear' 'saga']\nparam_logreg__tol                                  [1e-05 0.001 0.0001]\nparam_minmax_scaler__minmax__clip                  [True False]\nparam_ohe_imputer__knn_imputer__n_neighbors        [3 7 5]\nparam_ohe_imputer__knn_imputer__weights            ['uniform' 'distance']\n"
     ]
    }
   ],
   "source": [
    "for col_name in param_cols:\n",
    "    print(f\"{col_name:50}\", best_params_df[col_name].unique())"
   ]
  },
  {
   "cell_type": "code",
   "execution_count": null,
   "metadata": {},
   "outputs": [],
   "source": []
  }
 ]
}